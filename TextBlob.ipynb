{
 "cells": [
  {
   "cell_type": "markdown",
   "id": "2df00b07",
   "metadata": {},
   "source": [
    "# TextBlob\n",
    "- TextBlob is a Python library for processing textual data.\n",
    "- It provides a simple API for diving into common natural language processing (NLP) tasks such as part-of-speech tagging, noun phrase extraction, sentiment analysis, classification, and more.\n",
    "- TextBlob stands on the giant shoulders of NLTK and pattern, and plays nicely with both.\n",
    "\n",
    "# Features\n",
    "- Noun phrase extraction\n",
    "- Part-of-speech tagging\n",
    "- Sentiment analysis\n",
    "- Classification (Naive Bayes, Decision Tree)\n",
    "- Tokenization (splitting text into words and sentences)\n",
    "- Word and phrase frequencies\n",
    "- Parsing\n",
    "- n-grams\n",
    "- Word inflection (pluralization and singularization) and lemmatization\n",
    "- Spelling correction\n",
    "- Add new models or languages through extensions\n",
    "- WordNet integration\n",
    "\n",
    "# Get it now\n",
    "- $ pip install -U textblob\n",
    "\n",
    "- $ python -m textblob.download_corpora"
   ]
  },
  {
   "cell_type": "markdown",
   "id": "781068d9",
   "metadata": {},
   "source": [
    "### Create TextBlob\n",
    "- First, import a TextBlob\n"
   ]
  },
  {
   "cell_type": "code",
   "execution_count": 12,
   "id": "2f97d1ce",
   "metadata": {},
   "outputs": [],
   "source": [
    "from textblob import TextBlob"
   ]
  },
  {
   "cell_type": "markdown",
   "id": "9e4ba778",
   "metadata": {},
   "source": [
    "- Create our first TextBlob."
   ]
  },
  {
   "cell_type": "code",
   "execution_count": 25,
   "id": "76f57e4e",
   "metadata": {},
   "outputs": [
    {
     "data": {
      "text/plain": [
       "TextBlob(\"Use 4 spaces per indentation level. Beautiful is better than ugly. Explicit is better than implicit. Simple is better than complex.\")"
      ]
     },
     "execution_count": 25,
     "metadata": {},
     "output_type": "execute_result"
    }
   ],
   "source": [
    "wiki = TextBlob(\"Use 4 spaces per indentation level. \"\n",
    "                \"Beautiful is better than ugly. \"\n",
    "                \"Explicit is better than implicit. \"\n",
    "                \"Simple is better than complex.\")\n",
    "wiki"
   ]
  },
  {
   "cell_type": "markdown",
   "id": "2dacb308",
   "metadata": {},
   "source": [
    "### Part-of-speech Tagging\n",
    "- Part-of-speech tags can be accessed through the tags property."
   ]
  },
  {
   "cell_type": "code",
   "execution_count": 26,
   "id": "c8f40e41",
   "metadata": {},
   "outputs": [
    {
     "data": {
      "text/plain": [
       "[('Use', 'NNP'),\n",
       " ('4', 'CD'),\n",
       " ('spaces', 'NNS'),\n",
       " ('per', 'IN'),\n",
       " ('indentation', 'NN'),\n",
       " ('level', 'NN'),\n",
       " ('Beautiful', 'NNP'),\n",
       " ('is', 'VBZ'),\n",
       " ('better', 'JJR'),\n",
       " ('than', 'IN'),\n",
       " ('ugly', 'RB'),\n",
       " ('Explicit', 'NNP'),\n",
       " ('is', 'VBZ'),\n",
       " ('better', 'JJR'),\n",
       " ('than', 'IN'),\n",
       " ('implicit', 'NN'),\n",
       " ('Simple', 'NN'),\n",
       " ('is', 'VBZ'),\n",
       " ('better', 'JJR'),\n",
       " ('than', 'IN'),\n",
       " ('complex', 'JJ')]"
      ]
     },
     "execution_count": 26,
     "metadata": {},
     "output_type": "execute_result"
    }
   ],
   "source": [
    "wiki.tags"
   ]
  },
  {
   "cell_type": "markdown",
   "id": "a844341d",
   "metadata": {},
   "source": [
    "### Noun Phrase Extraction\n",
    "- Similarly, noun phrases are accessed through the noun_phrases property."
   ]
  },
  {
   "cell_type": "code",
   "execution_count": 27,
   "id": "173f412e",
   "metadata": {},
   "outputs": [
    {
     "data": {
      "text/plain": [
       "WordList(['indentation level', 'beautiful', 'explicit', 'simple'])"
      ]
     },
     "execution_count": 27,
     "metadata": {},
     "output_type": "execute_result"
    }
   ],
   "source": [
    "wiki.noun_phrases"
   ]
  },
  {
   "cell_type": "markdown",
   "id": "6137bae0",
   "metadata": {},
   "source": [
    "### Sentiment Analysis\n",
    "- The sentiment property returns a namedtuple of the form Sentiment(polarity, subjectivity). \n",
    "- The polarity score is a float within the range [-1.0, 1.0]. \n",
    "- The subjectivity is a float within the range [0.0, 1.0] where 0.0 is very objective and 1.0 is very subjective."
   ]
  },
  {
   "cell_type": "code",
   "execution_count": 28,
   "id": "aa9610fb",
   "metadata": {},
   "outputs": [
    {
     "data": {
      "text/plain": [
       "Sentiment(polarity=0.19285714285714287, subjectivity=0.6081632653061224)"
      ]
     },
     "execution_count": 28,
     "metadata": {},
     "output_type": "execute_result"
    }
   ],
   "source": [
    "wiki.sentiment"
   ]
  },
  {
   "cell_type": "code",
   "execution_count": 29,
   "id": "8bcdd7dd",
   "metadata": {},
   "outputs": [
    {
     "data": {
      "text/plain": [
       "0.19285714285714287"
      ]
     },
     "execution_count": 29,
     "metadata": {},
     "output_type": "execute_result"
    }
   ],
   "source": [
    "wiki.sentiment.polarity"
   ]
  },
  {
   "cell_type": "markdown",
   "id": "2becd290",
   "metadata": {},
   "source": [
    "### Tokenization\n",
    "- You can break TextBlobs into words or sentences."
   ]
  },
  {
   "cell_type": "code",
   "execution_count": 30,
   "id": "9e72ce23",
   "metadata": {},
   "outputs": [
    {
     "data": {
      "text/plain": [
       "WordList(['Use', '4', 'spaces', 'per', 'indentation', 'level', 'Beautiful', 'is', 'better', 'than', 'ugly', 'Explicit', 'is', 'better', 'than', 'implicit', 'Simple', 'is', 'better', 'than', 'complex'])"
      ]
     },
     "execution_count": 30,
     "metadata": {},
     "output_type": "execute_result"
    }
   ],
   "source": [
    "wiki.words"
   ]
  },
  {
   "cell_type": "code",
   "execution_count": 31,
   "id": "7be03e4b",
   "metadata": {},
   "outputs": [
    {
     "data": {
      "text/plain": [
       "[Sentence(\"Use 4 spaces per indentation level.\"),\n",
       " Sentence(\"Beautiful is better than ugly.\"),\n",
       " Sentence(\"Explicit is better than implicit.\"),\n",
       " Sentence(\"Simple is better than complex.\")]"
      ]
     },
     "execution_count": 31,
     "metadata": {},
     "output_type": "execute_result"
    }
   ],
   "source": [
    "wiki.sentences"
   ]
  },
  {
   "cell_type": "code",
   "execution_count": 32,
   "id": "9e41d545",
   "metadata": {},
   "outputs": [
    {
     "name": "stdout",
     "output_type": "stream",
     "text": [
      "Sentiment(polarity=0.0, subjectivity=0.0)\n",
      "Sentiment(polarity=0.2166666666666667, subjectivity=0.8333333333333334)\n",
      "Sentiment(polarity=0.5, subjectivity=0.5)\n",
      "Sentiment(polarity=0.06666666666666667, subjectivity=0.41904761904761906)\n"
     ]
    }
   ],
   "source": [
    "for sentence in wiki.sentences:\n",
    "    print(sentence.sentiment)"
   ]
  },
  {
   "cell_type": "markdown",
   "id": "7cd0e00a",
   "metadata": {},
   "source": [
    "### Words Inflection and Lemmatization\n",
    "- Each word in TextBlob.words or Sentence.words is a Word object (a subclass of unicode) with useful methods, e.g. for word inflection."
   ]
  },
  {
   "cell_type": "code",
   "execution_count": 33,
   "id": "b5dfc8dc",
   "metadata": {},
   "outputs": [
    {
     "data": {
      "text/plain": [
       "WordList(['Use', '4', 'spaces', 'per', 'indentation', 'level', 'Beautiful', 'is', 'better', 'than', 'ugly', 'Explicit', 'is', 'better', 'than', 'implicit', 'Simple', 'is', 'better', 'than', 'complex'])"
      ]
     },
     "execution_count": 33,
     "metadata": {},
     "output_type": "execute_result"
    }
   ],
   "source": [
    "wiki.words"
   ]
  },
  {
   "cell_type": "code",
   "execution_count": 34,
   "id": "49da1a7b",
   "metadata": {},
   "outputs": [
    {
     "data": {
      "text/plain": [
       "'space'"
      ]
     },
     "execution_count": 34,
     "metadata": {},
     "output_type": "execute_result"
    }
   ],
   "source": [
    "wiki.words[2].singularize()"
   ]
  },
  {
   "cell_type": "code",
   "execution_count": 35,
   "id": "4f439098",
   "metadata": {},
   "outputs": [
    {
     "data": {
      "text/plain": [
       "'complexes'"
      ]
     },
     "execution_count": 35,
     "metadata": {},
     "output_type": "execute_result"
    }
   ],
   "source": [
    "wiki.words[-1].pluralize()"
   ]
  },
  {
   "cell_type": "markdown",
   "id": "3111d97a",
   "metadata": {},
   "source": [
    "- Words can be lemmatized by calling the lemmatize method."
   ]
  },
  {
   "cell_type": "code",
   "execution_count": 36,
   "id": "1214955b",
   "metadata": {},
   "outputs": [
    {
     "data": {
      "text/plain": [
       "'octopus'"
      ]
     },
     "execution_count": 36,
     "metadata": {},
     "output_type": "execute_result"
    }
   ],
   "source": [
    "from textblob import Word\n",
    "w = Word(\"octopi\")\n",
    "w.lemmatize()"
   ]
  },
  {
   "cell_type": "code",
   "execution_count": 37,
   "id": "15e722af",
   "metadata": {},
   "outputs": [
    {
     "data": {
      "text/plain": [
       "'go'"
      ]
     },
     "execution_count": 37,
     "metadata": {},
     "output_type": "execute_result"
    }
   ],
   "source": [
    "w = Word(\"went\")\n",
    "w.lemmatize(\"v\")  # Pass in WordNet part of speech (verb)"
   ]
  },
  {
   "cell_type": "markdown",
   "id": "9b91d209",
   "metadata": {},
   "source": [
    "### WordNet Integration\n",
    "- You can access the synsets for a Word via the synsets property or the get_synsets method, optionally passing in a part of speech."
   ]
  },
  {
   "cell_type": "code",
   "execution_count": 38,
   "id": "64678f51",
   "metadata": {},
   "outputs": [
    {
     "data": {
      "text/plain": [
       "[Synset('octopus.n.01'), Synset('octopus.n.02')]"
      ]
     },
     "execution_count": 38,
     "metadata": {},
     "output_type": "execute_result"
    }
   ],
   "source": [
    "from textblob import Word\n",
    "from textblob.wordnet import VERB\n",
    "word = Word(\"octopus\")\n",
    "word.synsets"
   ]
  },
  {
   "cell_type": "code",
   "execution_count": 39,
   "id": "0c247007",
   "metadata": {},
   "outputs": [
    {
     "data": {
      "text/plain": [
       "[Synset('chop.v.05'),\n",
       " Synset('hack.v.02'),\n",
       " Synset('hack.v.03'),\n",
       " Synset('hack.v.04'),\n",
       " Synset('hack.v.05'),\n",
       " Synset('hack.v.06'),\n",
       " Synset('hack.v.07'),\n",
       " Synset('hack.v.08')]"
      ]
     },
     "execution_count": 39,
     "metadata": {},
     "output_type": "execute_result"
    }
   ],
   "source": [
    "Word(\"hack\").get_synsets(pos=VERB)"
   ]
  },
  {
   "cell_type": "markdown",
   "id": "f81a4667",
   "metadata": {},
   "source": [
    "- You can access the definitions for each synset via the definitions property or the define() method, which can also take an optional part-of-speech argument."
   ]
  },
  {
   "cell_type": "code",
   "execution_count": 40,
   "id": "9f118759",
   "metadata": {},
   "outputs": [
    {
     "data": {
      "text/plain": [
       "['tentacles of octopus prepared as food',\n",
       " 'bottom-living cephalopod having a soft oval body with eight long tentacles']"
      ]
     },
     "execution_count": 40,
     "metadata": {},
     "output_type": "execute_result"
    }
   ],
   "source": [
    "Word(\"octopus\").definitions"
   ]
  },
  {
   "cell_type": "markdown",
   "id": "5558da2f",
   "metadata": {},
   "source": [
    "- You can also create synsets directly."
   ]
  },
  {
   "cell_type": "code",
   "execution_count": 41,
   "id": "5f8905eb",
   "metadata": {},
   "outputs": [
    {
     "data": {
      "text/plain": [
       "0.1111111111111111"
      ]
     },
     "execution_count": 41,
     "metadata": {},
     "output_type": "execute_result"
    }
   ],
   "source": [
    "from textblob.wordnet import Synset\n",
    "octopus = Synset('octopus.n.02')\n",
    "shrimp = Synset('shrimp.n.03')\n",
    "octopus.path_similarity(shrimp)"
   ]
  },
  {
   "cell_type": "markdown",
   "id": "6529708a",
   "metadata": {},
   "source": [
    "### WordLists\n",
    "- A WordList is just a Python list with additional methods."
   ]
  },
  {
   "cell_type": "code",
   "execution_count": 42,
   "id": "d189153e",
   "metadata": {},
   "outputs": [
    {
     "data": {
      "text/plain": [
       "WordList(['cat', 'dog', 'octopus'])"
      ]
     },
     "execution_count": 42,
     "metadata": {},
     "output_type": "execute_result"
    }
   ],
   "source": [
    "animals = TextBlob(\"cat dog octopus\")\n",
    "animals.words"
   ]
  },
  {
   "cell_type": "code",
   "execution_count": 43,
   "id": "e01d7051",
   "metadata": {},
   "outputs": [
    {
     "data": {
      "text/plain": [
       "WordList(['cats', 'dogs', 'octopodes'])"
      ]
     },
     "execution_count": 43,
     "metadata": {},
     "output_type": "execute_result"
    }
   ],
   "source": [
    "animals.words.pluralize()"
   ]
  },
  {
   "cell_type": "markdown",
   "id": "7065ee36",
   "metadata": {},
   "source": [
    "### Spelling Correction\n",
    "- Use the correct() method to attempt spelling correction."
   ]
  },
  {
   "cell_type": "code",
   "execution_count": 44,
   "id": "94bdd18b",
   "metadata": {},
   "outputs": [
    {
     "name": "stdout",
     "output_type": "stream",
     "text": [
      "I have good spelling!\n"
     ]
    }
   ],
   "source": [
    "b = TextBlob(\"I havv goood speling!\")\n",
    "print(b.correct())"
   ]
  },
  {
   "cell_type": "markdown",
   "id": "d2afde94",
   "metadata": {},
   "source": [
    "- Word objects have a spellcheck() Word.spellcheck() method that returns a list of (word, confidence) tuples with spelling suggestions."
   ]
  },
  {
   "cell_type": "code",
   "execution_count": 45,
   "id": "8c99c69f",
   "metadata": {},
   "outputs": [
    {
     "data": {
      "text/plain": [
       "[('fallibility', 1.0)]"
      ]
     },
     "execution_count": 45,
     "metadata": {},
     "output_type": "execute_result"
    }
   ],
   "source": [
    "from textblob import Word\n",
    "w = Word('falibility')\n",
    "w.spellcheck()"
   ]
  },
  {
   "cell_type": "markdown",
   "id": "0279d604",
   "metadata": {},
   "source": [
    "- Spelling correction is based on Peter Norvig’s “How to Write a Spelling Corrector”[1] as implemented in the pattern library. It is about 70% accurate [2].\n"
   ]
  },
  {
   "cell_type": "markdown",
   "id": "57fa95c1",
   "metadata": {},
   "source": [
    "### Get Word and Noun Phrase Frequencies\n",
    "- There are two ways to get the frequency of a word or noun phrase in a TextBlob.\n",
    "\n",
    "- The first is through the word_counts dictionary."
   ]
  },
  {
   "cell_type": "code",
   "execution_count": 46,
   "id": "182f552a",
   "metadata": {},
   "outputs": [
    {
     "data": {
      "text/plain": [
       "3"
      ]
     },
     "execution_count": 46,
     "metadata": {},
     "output_type": "execute_result"
    }
   ],
   "source": [
    "monty = TextBlob(\"We are no longer the Knights who say Ni. \"\n",
    "                 \"We are now the Knights who say Ekki ekki ekki PTANG.\")\n",
    "monty.word_counts['ekki']"
   ]
  },
  {
   "cell_type": "markdown",
   "id": "541ed098",
   "metadata": {},
   "source": [
    "- If you access the frequencies this way, the search will not be case sensitive, and words that are not found will have a frequency of 0."
   ]
  },
  {
   "cell_type": "markdown",
   "id": "0d08de9a",
   "metadata": {},
   "source": [
    "- The second way is to use the count() method."
   ]
  },
  {
   "cell_type": "code",
   "execution_count": 47,
   "id": "64dd873a",
   "metadata": {},
   "outputs": [
    {
     "data": {
      "text/plain": [
       "3"
      ]
     },
     "execution_count": 47,
     "metadata": {},
     "output_type": "execute_result"
    }
   ],
   "source": [
    "monty.words.count('ekki')"
   ]
  },
  {
   "cell_type": "markdown",
   "id": "342948c4",
   "metadata": {},
   "source": [
    "- You can specify whether or not the search should be case-sensitive (default is False)."
   ]
  },
  {
   "cell_type": "code",
   "execution_count": 48,
   "id": "3af6d140",
   "metadata": {},
   "outputs": [
    {
     "data": {
      "text/plain": [
       "2"
      ]
     },
     "execution_count": 48,
     "metadata": {},
     "output_type": "execute_result"
    }
   ],
   "source": [
    "monty.words.count('ekki', case_sensitive=True)"
   ]
  },
  {
   "cell_type": "markdown",
   "id": "a9179543",
   "metadata": {},
   "source": [
    "- Each of these methods can also be used with noun phrases."
   ]
  },
  {
   "cell_type": "code",
   "execution_count": 49,
   "id": "f2e20d25",
   "metadata": {},
   "outputs": [
    {
     "data": {
      "text/plain": [
       "0"
      ]
     },
     "execution_count": 49,
     "metadata": {},
     "output_type": "execute_result"
    }
   ],
   "source": [
    "wiki.noun_phrases.count('python')"
   ]
  },
  {
   "cell_type": "markdown",
   "id": "b318f18a",
   "metadata": {},
   "source": [
    "### Parsing\n",
    "- Use the parse() method to parse the text."
   ]
  },
  {
   "cell_type": "code",
   "execution_count": 50,
   "id": "bc0884d3",
   "metadata": {},
   "outputs": [
    {
     "name": "stdout",
     "output_type": "stream",
     "text": [
      "And/CC/O/O now/RB/B-ADVP/O for/IN/B-PP/B-PNP something/NN/B-NP/I-PNP completely/RB/B-ADJP/O different/JJ/I-ADJP/O ././O/O\n"
     ]
    }
   ],
   "source": [
    "b = TextBlob(\"And now for something completely different.\")\n",
    "print(b.parse())"
   ]
  },
  {
   "cell_type": "markdown",
   "id": "90450772",
   "metadata": {},
   "source": [
    "- By default, TextBlob uses pattern’s parser [3]."
   ]
  },
  {
   "cell_type": "markdown",
   "id": "e52539ee",
   "metadata": {},
   "source": [
    "### TextBlobs Are Like Python Strings!\n",
    "- You can use Python’s substring syntax."
   ]
  },
  {
   "cell_type": "code",
   "execution_count": 51,
   "id": "6d89380e",
   "metadata": {},
   "outputs": [
    {
     "data": {
      "text/plain": [
       "TextBlob(\"Use 4 spaces per in\")"
      ]
     },
     "execution_count": 51,
     "metadata": {},
     "output_type": "execute_result"
    }
   ],
   "source": [
    "wiki[0:19]"
   ]
  },
  {
   "cell_type": "markdown",
   "id": "33878c6b",
   "metadata": {},
   "source": [
    "- You can use common string methods."
   ]
  },
  {
   "cell_type": "code",
   "execution_count": 52,
   "id": "1ca20257",
   "metadata": {},
   "outputs": [
    {
     "data": {
      "text/plain": [
       "TextBlob(\"USE 4 SPACES PER INDENTATION LEVEL. BEAUTIFUL IS BETTER THAN UGLY. EXPLICIT IS BETTER THAN IMPLICIT. SIMPLE IS BETTER THAN COMPLEX.\")"
      ]
     },
     "execution_count": 52,
     "metadata": {},
     "output_type": "execute_result"
    }
   ],
   "source": [
    "wiki.upper()"
   ]
  },
  {
   "cell_type": "code",
   "execution_count": 53,
   "id": "b20948ba",
   "metadata": {},
   "outputs": [
    {
     "data": {
      "text/plain": [
       "101"
      ]
     },
     "execution_count": 53,
     "metadata": {},
     "output_type": "execute_result"
    }
   ],
   "source": [
    "wiki.find(\"Simple\")"
   ]
  },
  {
   "cell_type": "markdown",
   "id": "6fcd8990",
   "metadata": {},
   "source": [
    "- You can make comparisons between TextBlobs and strings."
   ]
  },
  {
   "cell_type": "code",
   "execution_count": 54,
   "id": "cf955a63",
   "metadata": {},
   "outputs": [
    {
     "data": {
      "text/plain": [
       "True"
      ]
     },
     "execution_count": 54,
     "metadata": {},
     "output_type": "execute_result"
    }
   ],
   "source": [
    "apple_blob = TextBlob('apples')\n",
    "banana_blob = TextBlob('bananas')\n",
    "apple_blob < banana_blob"
   ]
  },
  {
   "cell_type": "code",
   "execution_count": 55,
   "id": "5caa5ae9",
   "metadata": {},
   "outputs": [
    {
     "data": {
      "text/plain": [
       "True"
      ]
     },
     "execution_count": 55,
     "metadata": {},
     "output_type": "execute_result"
    }
   ],
   "source": [
    "apple_blob == 'apples'"
   ]
  },
  {
   "cell_type": "markdown",
   "id": "82e1c163",
   "metadata": {},
   "source": [
    "- You can concatenate and interpolate TextBlobs and strings."
   ]
  },
  {
   "cell_type": "code",
   "execution_count": 56,
   "id": "5a1a8d27",
   "metadata": {},
   "outputs": [
    {
     "data": {
      "text/plain": [
       "TextBlob(\"apples and bananas\")"
      ]
     },
     "execution_count": 56,
     "metadata": {},
     "output_type": "execute_result"
    }
   ],
   "source": [
    "apple_blob + ' and ' + banana_blob"
   ]
  },
  {
   "cell_type": "code",
   "execution_count": 57,
   "id": "b3dc5904",
   "metadata": {},
   "outputs": [
    {
     "data": {
      "text/plain": [
       "'apples and bananas'"
      ]
     },
     "execution_count": 57,
     "metadata": {},
     "output_type": "execute_result"
    }
   ],
   "source": [
    "\"{0} and {1}\".format(apple_blob, banana_blob)"
   ]
  },
  {
   "cell_type": "markdown",
   "id": "3a81917b",
   "metadata": {},
   "source": [
    "### n-grams\n",
    "- The TextBlob.ngrams() method returns a list of tuples of n successive words."
   ]
  },
  {
   "cell_type": "code",
   "execution_count": 58,
   "id": "7024ae89",
   "metadata": {},
   "outputs": [
    {
     "data": {
      "text/plain": [
       "[WordList(['Now', 'is', 'better']),\n",
       " WordList(['is', 'better', 'than']),\n",
       " WordList(['better', 'than', 'never'])]"
      ]
     },
     "execution_count": 58,
     "metadata": {},
     "output_type": "execute_result"
    }
   ],
   "source": [
    "blob = TextBlob(\"Now is better than never.\")\n",
    "blob.ngrams(n=3)"
   ]
  },
  {
   "cell_type": "markdown",
   "id": "050c3331",
   "metadata": {},
   "source": [
    "### Get Start and End Indices of Sentences\n",
    "- Use sentence.start and sentence.end to get the indices where a sentence starts and ends within a TextBlob."
   ]
  },
  {
   "cell_type": "code",
   "execution_count": 59,
   "id": "af8fe2b3",
   "metadata": {},
   "outputs": [
    {
     "name": "stdout",
     "output_type": "stream",
     "text": [
      "Use 4 spaces per indentation level.\n",
      "---- Starts at index 0, Ends at index 35\n",
      "Beautiful is better than ugly.\n",
      "---- Starts at index 36, Ends at index 66\n",
      "Explicit is better than implicit.\n",
      "---- Starts at index 67, Ends at index 100\n",
      "Simple is better than complex.\n",
      "---- Starts at index 101, Ends at index 131\n"
     ]
    }
   ],
   "source": [
    "for s in wiki.sentences:\n",
    "    print(s)\n",
    "    print(\"---- Starts at index {}, Ends at index {}\".format(s.start, s.end))"
   ]
  },
  {
   "cell_type": "markdown",
   "id": "8f174df0",
   "metadata": {},
   "source": [
    "# Tutorial: Building a Text Classification System\n",
    "\n",
    "- The textblob.classifiers module makes it simple to create custom classifiers.\n",
    "\n",
    "- As an example, let’s create a custom sentiment analyzer.\n",
    "\n",
    "### Loading Data and Creating a Classifier\n",
    "- First we’ll create some training and test data."
   ]
  },
  {
   "cell_type": "code",
   "execution_count": 60,
   "id": "c83e4f1a",
   "metadata": {},
   "outputs": [],
   "source": [
    "train = [\n",
    "    (\"I love this sandwich.\", \"pos\"),\n",
    "    (\"this is an amazing place!\", \"pos\"),\n",
    "    (\"I feel very good about these beers.\", \"pos\"),\n",
    "    (\"this is my best work.\", \"pos\"),\n",
    "    (\"what an awesome view\", \"pos\"),\n",
    "    (\"I do not like this restaurant\", \"neg\"),\n",
    "    (\"I am tired of this stuff.\", \"neg\"),\n",
    "    (\"I can't deal with this\", \"neg\"),\n",
    "    (\"he is my sworn enemy!\", \"neg\"),\n",
    "    (\"my boss is horrible.\", \"neg\"),\n",
    "]\n",
    "test = [\n",
    "    (\"the beer was good.\", \"pos\"),\n",
    "    (\"I do not enjoy my job\", \"neg\"),\n",
    "    (\"I ain't feeling dandy today.\", \"neg\"),\n",
    "    (\"I feel amazing!\", \"pos\"),\n",
    "    (\"Gary is a friend of mine.\", \"pos\"),\n",
    "    (\"I can't believe I'm doing this.\", \"neg\"),\n",
    "]\n"
   ]
  },
  {
   "cell_type": "markdown",
   "id": "1b5cf4d3",
   "metadata": {},
   "source": [
    "- Now we’ll create a Naive Bayes classifier, passing the training data into the constructor."
   ]
  },
  {
   "cell_type": "code",
   "execution_count": 61,
   "id": "8c925644",
   "metadata": {},
   "outputs": [],
   "source": [
    "from textblob.classifiers import NaiveBayesClassifier\n",
    "cl = NaiveBayesClassifier(train)"
   ]
  },
  {
   "cell_type": "markdown",
   "id": "12af301c",
   "metadata": {},
   "source": [
    "### Loading Data from Files\n",
    "- You can also load data from common file formats including CSV, JSON, and TSV.\n",
    "\n",
    "- CSV files should be formatted like so:\n",
    "\n",
    "    - I love this sandwich.,pos\n",
    "    - This is an amazing place!,pos\n",
    "    - I do not like this restaurant,neg\n",
    "\n",
    "- JSON files should be formatted like so:\n",
    "\n",
    "    - [\n",
    "        - {\"text\": \"I love this sandwich.\", \"label\": \"pos\"},\n",
    "        - {\"text\": \"This is an amazing place!\", \"label\": \"pos\"},\n",
    "        - {\"text\": \"I do not like this restaurant\", \"label\": \"neg\"}\n",
    "    - ]\n",
    "\n",
    "- You can then pass the opened file into the constructor."
   ]
  },
  {
   "cell_type": "code",
   "execution_count": 63,
   "id": "d2d60cf0",
   "metadata": {},
   "outputs": [],
   "source": [
    "with open(r'C:\\Users\\admin\\New_Folder\\TextBlob.json', 'r') as fp:\n",
    "    cl = NaiveBayesClassifier(fp, format=\"json\")"
   ]
  },
  {
   "cell_type": "markdown",
   "id": "1546f039",
   "metadata": {},
   "source": [
    "### Classifying Text\n",
    "- Call the classify(text) method to use the classifier."
   ]
  },
  {
   "cell_type": "code",
   "execution_count": 64,
   "id": "2ecc1066",
   "metadata": {},
   "outputs": [
    {
     "data": {
      "text/plain": [
       "'pos'"
      ]
     },
     "execution_count": 64,
     "metadata": {},
     "output_type": "execute_result"
    }
   ],
   "source": [
    "cl.classify(\"This is an amazing library!\")"
   ]
  },
  {
   "cell_type": "markdown",
   "id": "270e0886",
   "metadata": {},
   "source": [
    "- You can get the label probability distribution with the prob_classify(text) method."
   ]
  },
  {
   "cell_type": "code",
   "execution_count": 65,
   "id": "8f37e707",
   "metadata": {},
   "outputs": [
    {
     "data": {
      "text/plain": [
       "'pos'"
      ]
     },
     "execution_count": 65,
     "metadata": {},
     "output_type": "execute_result"
    }
   ],
   "source": [
    "prob_dist = cl.prob_classify(\"This one's a doozy.\")\n",
    "prob_dist.max()"
   ]
  },
  {
   "cell_type": "code",
   "execution_count": 66,
   "id": "e0f8364d",
   "metadata": {},
   "outputs": [
    {
     "data": {
      "text/plain": [
       "0.99"
      ]
     },
     "execution_count": 66,
     "metadata": {},
     "output_type": "execute_result"
    }
   ],
   "source": [
    "round(prob_dist.prob(\"pos\"), 2)"
   ]
  },
  {
   "cell_type": "code",
   "execution_count": 67,
   "id": "b9007b73",
   "metadata": {},
   "outputs": [
    {
     "data": {
      "text/plain": [
       "0.01"
      ]
     },
     "execution_count": 67,
     "metadata": {},
     "output_type": "execute_result"
    }
   ],
   "source": [
    "round(prob_dist.prob(\"neg\"), 2)"
   ]
  },
  {
   "cell_type": "markdown",
   "id": "b9813b0b",
   "metadata": {},
   "source": [
    "### Classifying TextBlobs\n",
    "- Another way to classify text is to pass a classifier into the constructor of TextBlob and call its classify() method."
   ]
  },
  {
   "cell_type": "code",
   "execution_count": 68,
   "id": "ebdb16e4",
   "metadata": {},
   "outputs": [
    {
     "data": {
      "text/plain": [
       "'pos'"
      ]
     },
     "execution_count": 68,
     "metadata": {},
     "output_type": "execute_result"
    }
   ],
   "source": [
    "from textblob import TextBlob\n",
    "blob = TextBlob(\"The beer is good. But the hangover is horrible.\", classifier=cl)\n",
    "blob.classify()"
   ]
  },
  {
   "cell_type": "markdown",
   "id": "921089a4",
   "metadata": {},
   "source": [
    "- The advantage of this approach is that you can classify sentences within a TextBlob."
   ]
  },
  {
   "cell_type": "code",
   "execution_count": 69,
   "id": "38b3ba95",
   "metadata": {},
   "outputs": [
    {
     "name": "stdout",
     "output_type": "stream",
     "text": [
      "The beer is good.\n",
      "pos\n",
      "But the hangover is horrible.\n",
      "pos\n"
     ]
    }
   ],
   "source": [
    "for s in blob.sentences:\n",
    "    print(s)\n",
    "    print(s.classify())"
   ]
  },
  {
   "cell_type": "markdown",
   "id": "69c1d8b4",
   "metadata": {},
   "source": [
    "### Evaluating Classifiers\n",
    "- To compute the accuracy on our test set, use the accuracy(test_data) method."
   ]
  },
  {
   "cell_type": "code",
   "execution_count": 70,
   "id": "1588422a",
   "metadata": {},
   "outputs": [
    {
     "data": {
      "text/plain": [
       "0.6666666666666666"
      ]
     },
     "execution_count": 70,
     "metadata": {},
     "output_type": "execute_result"
    }
   ],
   "source": [
    "cl.accuracy(test)"
   ]
  },
  {
   "cell_type": "markdown",
   "id": "791510b5",
   "metadata": {},
   "source": [
    "- Use the show_informative_features() method to display a listing of the most informative features."
   ]
  },
  {
   "cell_type": "code",
   "execution_count": 71,
   "id": "3e0fa7d0",
   "metadata": {},
   "outputs": [
    {
     "name": "stdout",
     "output_type": "stream",
     "text": [
      "Most Informative Features\n",
      "             contains(I) = True              neg : pos    =      1.5 : 1.0\n",
      "          contains(This) = False             neg : pos    =      1.5 : 1.0\n",
      "       contains(amazing) = False             neg : pos    =      1.5 : 1.0\n",
      "            contains(an) = False             neg : pos    =      1.5 : 1.0\n",
      "            contains(is) = False             neg : pos    =      1.5 : 1.0\n"
     ]
    }
   ],
   "source": [
    "cl.show_informative_features(5) "
   ]
  },
  {
   "cell_type": "markdown",
   "id": "9b8b3ed8",
   "metadata": {},
   "source": [
    "### Updating Classifiers with New Data\n",
    "- Use the update(new_data) method to update a classifier with new training data."
   ]
  },
  {
   "cell_type": "code",
   "execution_count": 72,
   "id": "e1adf075",
   "metadata": {},
   "outputs": [
    {
     "data": {
      "text/plain": [
       "True"
      ]
     },
     "execution_count": 72,
     "metadata": {},
     "output_type": "execute_result"
    }
   ],
   "source": [
    "new_data = [\n",
    "    (\"She is my best friend.\", \"pos\"),\n",
    "    (\"I'm happy to have a new friend.\", \"pos\"),\n",
    "    (\"Stay thirsty, my friend.\", \"pos\"),\n",
    "    (\"He ain't from around here.\", \"neg\"),\n",
    "]\n",
    "cl.update(new_data)"
   ]
  },
  {
   "cell_type": "code",
   "execution_count": 73,
   "id": "e114f866",
   "metadata": {},
   "outputs": [
    {
     "data": {
      "text/plain": [
       "0.6666666666666666"
      ]
     },
     "execution_count": 73,
     "metadata": {},
     "output_type": "execute_result"
    }
   ],
   "source": [
    "cl.accuracy(test)"
   ]
  },
  {
   "cell_type": "markdown",
   "id": "8bb19c9f",
   "metadata": {},
   "source": [
    "### Feature Extractors\n",
    "- By default, the NaiveBayesClassifier uses a simple feature extractor that indicates which words in the training set are contained in a document.\n",
    "\n",
    "- For example, the sentence “I feel happy” might have the features contains(happy): True or contains(angry): False.\n",
    "\n",
    "- You can override this feature extractor by writing your own. A feature extractor is simply a function with document (the text to extract features from) as the first argument. The function may include a second argument, train_set (the training dataset), if necessary.\n",
    "\n",
    "- The function should return a dictionary of features for document.\n",
    "\n",
    "- For example, let’s create a feature extractor that just uses the first and last words of a document as its features."
   ]
  },
  {
   "cell_type": "code",
   "execution_count": 76,
   "id": "ff709f1d",
   "metadata": {},
   "outputs": [],
   "source": [
    "def end_word_extractor(document):\n",
    "    tokens = document.split()\n",
    "    first_word, last_word = tokens[0], tokens[-1]\n",
    "    feats = {}\n",
    "    feats[\"first({0})\".format(first_word)] = True\n",
    "    feats[\"last({0})\".format(last_word)] = False\n",
    "    return feats\n",
    "\n",
    "features = end_word_extractor(\"I feel happy\")\n",
    "assert features == {\"last(happy)\": False, \"first(I)\": True}"
   ]
  },
  {
   "cell_type": "markdown",
   "id": "dd6ec1f6",
   "metadata": {},
   "source": [
    "- We can then use the feature extractor in a classifier by passing it as the second argument of the constructor."
   ]
  },
  {
   "cell_type": "code",
   "execution_count": 77,
   "id": "62c7dbd8",
   "metadata": {},
   "outputs": [
    {
     "data": {
      "text/plain": [
       "'pos'"
      ]
     },
     "execution_count": 77,
     "metadata": {},
     "output_type": "execute_result"
    }
   ],
   "source": [
    "cl2 = NaiveBayesClassifier(test, feature_extractor=end_word_extractor)\n",
    "blob = TextBlob(\"I'm excited to try my new classifier.\", classifier=cl2)\n",
    "blob.classify()"
   ]
  },
  {
   "cell_type": "markdown",
   "id": "b2d9db4b",
   "metadata": {},
   "source": [
    "- Want to know more about TextBlob, Visit link\n",
    "https://textblob.readthedocs.io/en/dev/"
   ]
  },
  {
   "cell_type": "code",
   "execution_count": null,
   "id": "47ec449d",
   "metadata": {},
   "outputs": [],
   "source": []
  }
 ],
 "metadata": {
  "kernelspec": {
   "display_name": "Python 3",
   "language": "python",
   "name": "python3"
  },
  "language_info": {
   "codemirror_mode": {
    "name": "ipython",
    "version": 3
   },
   "file_extension": ".py",
   "mimetype": "text/x-python",
   "name": "python",
   "nbconvert_exporter": "python",
   "pygments_lexer": "ipython3",
   "version": "3.8.8"
  }
 },
 "nbformat": 4,
 "nbformat_minor": 5
}
